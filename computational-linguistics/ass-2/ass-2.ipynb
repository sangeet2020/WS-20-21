{
 "cells": [
  {
   "cell_type": "code",
   "execution_count": 116,
   "metadata": {},
   "outputs": [],
   "source": [
    "import numpy as np\n",
    "import math\n",
    "np.set_printoptions(precision=5)"
   ]
  },
  {
   "cell_type": "code",
   "execution_count": 165,
   "metadata": {},
   "outputs": [
    {
     "name": "stdout",
     "output_type": "stream",
     "text": [
      "O [1 2 3]\n",
      "S ['H' 'C']\n",
      "pi [0.8 0.2]\n",
      "Y [3 1 3]\n",
      "A [[0.7 0.3]\n",
      " [0.4 0.6]] \n",
      "\n",
      "B [[0.2 0.4 0.4]\n",
      " [0.5 0.4 0.1]]\n"
     ]
    }
   ],
   "source": [
    "O = np.arange(1,4) # observation space\n",
    "S = np.asarray(['H', 'C']) # State space\n",
    "pi = np.asarray([0.8, 0.2]) # Initial probablity\n",
    "Y = np.asarray([3, 1, 3]) # Observation sequnece T\n",
    "A = np.array([[0.7, 0.3], \n",
    "              [0.4, 0.6]] ) # transition matrix\n",
    "# A = np.matrix('0.7 0.6; 0.3 0.4') # transition matrix\n",
    "B = np.matrix([[0.2, 0.4, 0.4],\n",
    "               [0.5, 0.4, 0.1]]) # emission matrix \n",
    "print(\"O\",O)\n",
    "print(\"S\",S)\n",
    "print(\"pi\",pi)\n",
    "print(\"Y\",Y)\n",
    "print(\"A\",A,'\\n')\n",
    "print(\"B\",B)"
   ]
  },
  {
   "cell_type": "code",
   "execution_count": 272,
   "metadata": {},
   "outputs": [
    {
     "name": "stdout",
     "output_type": "stream",
     "text": [
      "[[0.32    0.0448  0.01254]\n",
      " [0.02    0.048   0.00288]]\n",
      "['H', 'H', 'H']\n"
     ]
    }
   ],
   "source": [
    "N = len(O)\n",
    "K = len(S)\n",
    "T = len(Y)\n",
    "T1 = np.zeros(shape=(K,T))\n",
    "T2 = np.zeros(shape=(K,T))\n",
    "for i in range(K):\n",
    "    T1[i,0] = pi[i] * B[i, Y[0]-1] # or 0 = i-1\n",
    "    T2[i,0] = 0\n",
    "    \n",
    "for j in range(1, T):    \n",
    "    for i in range(K):\n",
    "        T1[i,j] = np.max(T1[:,j-1] * A[:, i] * B[i, Y[j]-1])\n",
    "        T2[i,j] = np.argmax(T1[:,j-1] * A[:, i] * B[i, Y[j]-1])\n",
    "\n",
    "Z = [None] * T\n",
    "X = [None] * T\n",
    "\n",
    "Z[T-1] = np.argmax(T1[:,2])\n",
    "X[T-1] = S[Z[T-1]]\n",
    "\n",
    "for j in reversed(range(1, T)):\n",
    "    Z[j-1] = T2[int(Z[j]),j]\n",
    "    X[j-1] = S[int(Z[j-1])]\n",
    "\n",
    "print(T1)\n",
    "print(X)"
   ]
  },
  {
   "cell_type": "code",
   "execution_count": null,
   "metadata": {},
   "outputs": [],
   "source": []
  }
 ],
 "metadata": {
  "kernelspec": {
   "display_name": "Python 3",
   "language": "python",
   "name": "python3"
  },
  "language_info": {
   "codemirror_mode": {
    "name": "ipython",
    "version": 3
   },
   "file_extension": ".py",
   "mimetype": "text/x-python",
   "name": "python",
   "nbconvert_exporter": "python",
   "pygments_lexer": "ipython3",
   "version": "3.8.3"
  }
 },
 "nbformat": 4,
 "nbformat_minor": 4
}
