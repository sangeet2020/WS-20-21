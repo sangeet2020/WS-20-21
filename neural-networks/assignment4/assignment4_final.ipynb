{
 "cells": [
  {
   "cell_type": "markdown",
   "metadata": {},
   "source": [
    "# Exercise Sheet 4\n",
    "\n",
    "## Implementing regression\n",
    "\n",
    "### Deadline: 08.12.2020 23:59\n",
    "\n",
    "**Instructions:**\n",
    "Insert your code in the *TODO* sections ans type your answers in the *Answer* cells. <br>\n",
    "Submit as a notebook together with the extra files (mentioned in later in the exercise) in an archive."
   ]
  },
  {
   "cell_type": "markdown",
   "metadata": {},
   "source": [
    "-Bernadeta Griciūtė (7007672) \\\n",
    "-Sangeet Sagar (7009050\n",
    "\n",
    "{begr00001,sasa00001\\}@stud.uni-saarland.de}"
   ]
  },
  {
   "cell_type": "markdown",
   "metadata": {},
   "source": [
    "In this exercise we will implement a regression by hand instead of using sklearn package. <br>\n",
    "We will use the same titanic dataset as last time, so first we have to load it."
   ]
  },
  {
   "cell_type": "code",
   "execution_count": 9,
   "metadata": {},
   "outputs": [
    {
     "data": {
      "text/html": [
       "<div>\n",
       "<style scoped>\n",
       "    .dataframe tbody tr th:only-of-type {\n",
       "        vertical-align: middle;\n",
       "    }\n",
       "\n",
       "    .dataframe tbody tr th {\n",
       "        vertical-align: top;\n",
       "    }\n",
       "\n",
       "    .dataframe thead th {\n",
       "        text-align: right;\n",
       "    }\n",
       "</style>\n",
       "<table border=\"1\" class=\"dataframe\">\n",
       "  <thead>\n",
       "    <tr style=\"text-align: right;\">\n",
       "      <th></th>\n",
       "      <th>PassengerId</th>\n",
       "      <th>Survived</th>\n",
       "      <th>Pclass</th>\n",
       "      <th>Age</th>\n",
       "      <th>Price</th>\n",
       "    </tr>\n",
       "  </thead>\n",
       "  <tbody>\n",
       "    <tr>\n",
       "      <th>0</th>\n",
       "      <td>1</td>\n",
       "      <td>0</td>\n",
       "      <td>3</td>\n",
       "      <td>22.0</td>\n",
       "      <td>7.2500</td>\n",
       "    </tr>\n",
       "    <tr>\n",
       "      <th>1</th>\n",
       "      <td>2</td>\n",
       "      <td>1</td>\n",
       "      <td>1</td>\n",
       "      <td>38.0</td>\n",
       "      <td>71.2833</td>\n",
       "    </tr>\n",
       "    <tr>\n",
       "      <th>2</th>\n",
       "      <td>3</td>\n",
       "      <td>1</td>\n",
       "      <td>3</td>\n",
       "      <td>26.0</td>\n",
       "      <td>7.9250</td>\n",
       "    </tr>\n",
       "    <tr>\n",
       "      <th>3</th>\n",
       "      <td>4</td>\n",
       "      <td>1</td>\n",
       "      <td>1</td>\n",
       "      <td>35.0</td>\n",
       "      <td>26.5500</td>\n",
       "    </tr>\n",
       "    <tr>\n",
       "      <th>4</th>\n",
       "      <td>5</td>\n",
       "      <td>0</td>\n",
       "      <td>3</td>\n",
       "      <td>35.0</td>\n",
       "      <td>8.0500</td>\n",
       "    </tr>\n",
       "  </tbody>\n",
       "</table>\n",
       "</div>"
      ],
      "text/plain": [
       "   PassengerId  Survived  Pclass   Age    Price\n",
       "0            1         0       3  22.0   7.2500\n",
       "1            2         1       1  38.0  71.2833\n",
       "2            3         1       3  26.0   7.9250\n",
       "3            4         1       1  35.0  26.5500\n",
       "4            5         0       3  35.0   8.0500"
      ]
     },
     "execution_count": 9,
     "metadata": {},
     "output_type": "execute_result"
    }
   ],
   "source": [
    "import pandas as pd\n",
    "## TODO: load the dataset into a pandas dataframe\n",
    "\n",
    "titanic = pd.read_csv(\"titanic.csv\")\n",
    "titanic.head()"
   ]
  },
  {
   "cell_type": "markdown",
   "metadata": {},
   "source": [
    "Fitting a regression means finding a line such that the mean distance from the actual datapoints and their projections onto the line (predictions), i.e. the error, is minimal. We achive that by defining the loss function (MSE in case of linear regression) and minimizing it, or in other words, finding the minimum point. <br>\n",
    "\n",
    "In this exercise we will fit a linear regression with one predictor (age of the passenger) without intercept, so that our loss function is dependent only on the coefficient (aka weight) *w*, so that the loss function is defined as *MSE(w)*. "
   ]
  },
  {
   "cell_type": "markdown",
   "metadata": {},
   "source": [
    "### 4.1 Prepare data (0.5 points)\n",
    "As we are fitting a model without the intercept, we need to center the data."
   ]
  },
  {
   "cell_type": "code",
   "execution_count": 10,
   "metadata": {},
   "outputs": [
    {
     "data": {
      "image/png": "[encoded data removed]",
      "text/plain": [
       "<Figure size 432x288 with 2 Axes>"
      ]
     },
     "metadata": {
      "needs_background": "light"
     },
     "output_type": "display_data"
    }
   ],
   "source": [
    "import matplotlib.pyplot as plt\n",
    "import numpy as np\n",
    "\n",
    "## TODO: center the input data and save under x (age of the passenger) and y (price of the ticket) variables\n",
    "\n",
    "x = titanic[[\"Age\"]] - np.mean(titanic[[\"Age\"]])\n",
    "y = titanic[[\"Price\"]] - np.mean(titanic[[\"Price\"]])\n",
    "\n",
    "\n",
    "## Uncomment this part for plotting\n",
    "\n",
    "fig, axs = plt.subplots(1, 2)\n",
    "fig.tight_layout()\n",
    "\n",
    "axs[0].scatter(titanic.Age, titanic.Price, s=4)\n",
    "axs[0].set_title('Original')\n",
    "axs[0].set_ylabel('Price of the ticket')\n",
    "\n",
    "axs[1].scatter(x, y, color = 'r', s=4)\n",
    "axs[1].set_title('Centered')\n",
    "\n",
    "for ax in axs:\n",
    "    ax.set_xlim(-40, 90)\n",
    "    ax.set_ylim(-50, 250)\n",
    "    ax.set_xlabel('Age')\n",
    "    ax.grid(True)\n",
    "    ax.axhline(y=0, color='k')\n",
    "    ax.axvline(x=0, color='k')\n",
    "\n",
    "plt.show()"
   ]
  },
  {
   "cell_type": "markdown",
   "metadata": {},
   "source": [
    "### 4.2 Define the loss function (0.5 points)\n",
    "\n",
    "Write the formula for calculating the loss function *MSE(w)* with $\\textbf{X}^{n*m}$ as a matrix with input data, *n* - the number of datapoints, *m* - the number of features, $\\textbf{y}^{n}$ - vector containing ground truth values. "
   ]
  },
  {
   "cell_type": "markdown",
   "metadata": {},
   "source": [
    "*Answer*: <br>\n",
    "\n",
    "$$\n",
    "MSE(w) = \\sum_1^N\\|\\textbf{y}^n −\\textbf{X}^{n\\times m}w^T\\|^2 \n",
    "$$\n",
    "Where: <br>\n",
    "$w$: vector of size $1 \\times m$"
   ]
  },
  {
   "cell_type": "markdown",
   "metadata": {},
   "source": [
    "### 4.3 Create a computational graph for the loss function (2 points)\n",
    "\n",
    "In this part you will create a computational graph for the loss funciton defined above. Please, have a look at this <a href='https://www.deepideas.net/deep-learning-from-scratch-i-computational-graphs/'>tutorial</a> to understand what a computational graph is.\n",
    "\n",
    "We will use an application for creating diagrams <a href=\"https://app.diagrams.net/\">draw.io</a> for creating the graph. In the exercise materials there is a file *ComputationalGraphs_Instructions*. Go to the <a href=\"https://app.diagrams.net/\">application</a> and open this file. Follow the instructions in the file.\n",
    "\n",
    "Save your graph under *computational_graph.png* in the same folder as this notebook and execute the next cell to print it. You can change the *width* parameter to adjust to your image.\n",
    "\n",
    "Don't forget to add the file to the archive together with this notebook!"
   ]
  },
  {
   "cell_type": "markdown",
   "metadata": {},
   "source": [
    "<img src=\"computational_graph.png\" width=400>"
   ]
  },
  {
   "cell_type": "markdown",
   "metadata": {},
   "source": [
    "### 4.4 Plot the loss function (2 points)\n",
    "\n",
    "In this part you will use the computational graph for calculating the loss function and plotting it."
   ]
  },
  {
   "cell_type": "code",
   "execution_count": 174,
   "metadata": {},
   "outputs": [
    {
     "name": "stdout",
     "output_type": "stream",
     "text": [
      "w: (100, 1) \n",
      "x: (714, 1) \n",
      "y: (714, 1)\n",
      "mse: (100, 1)\n"
     ]
    },
    {
     "data": {
      "image/png": "[encoded data removed]",
      "text/plain": [
       "<Figure size 432x288 with 1 Axes>"
      ]
     },
     "metadata": {
      "needs_background": "light"
     },
     "output_type": "display_data"
    }
   ],
   "source": [
    "import numpy as np\n",
    "## TODO: define the input values\n",
    "##     w: an array of possible values of w for plotting, from -5 to 5 with a step of 0.1\n",
    "##     x: centered input values (age of the passengers)\n",
    "##     y: centered output values (price of the ticket)\n",
    "##     n: number of data points\n",
    "x = titanic[[\"Age\"]] - np.mean(titanic[[\"Age\"]])\n",
    "y = titanic[[\"Price\"]] - np.mean(titanic[[\"Price\"]])\n",
    "\n",
    "w = np.arange(-5,5, 0.1)\n",
    "x = x.to_numpy()\n",
    "y = y.to_numpy()\n",
    "n = x.shape[0]\n",
    "\n",
    "## Reshape the data according to how you defined dimensions in the computational graph using .reshape() method\n",
    "\n",
    "w = w.reshape(len(w),1)\n",
    "x = x.reshape(n,1)\n",
    "y = y.reshape(n,1)\n",
    "# n # scalar value can not be rehaped\n",
    "\n",
    "## Uncomment for printing\n",
    "print('w:', str(w.shape),\n",
    "      '\\nx:', str(x.shape),\n",
    "      '\\ny:', str(y.shape))\n",
    "      \n",
    "    \n",
    "## TODO: compute the intermediate nodes and the output node of the graph.\n",
    "##       Be consistent with the names of the variables.    \n",
    "B = np.dot(x, w.T)\n",
    "C = y - B\n",
    "D = C**2\n",
    "E = np.ones(n).reshape(1, n)\n",
    "F = np.dot(E, D)\n",
    "\n",
    "## TODO: reshape w and mse for plotting: they should have shape (100,)\n",
    "mse = F.reshape(len(w),1)\n",
    "w = w.reshape(len(w),1)\n",
    "print('mse:', str(mse.shape))\n",
    "\n",
    "# ## Uncomment for plotting\n",
    "plt.plot(w, mse)\n",
    "plt.xlabel('w')\n",
    "plt.ylabel('MSE')\n",
    "plt.title('Optimization of w')\n",
    "plt.grid(True)\n",
    "plt.show()\n"
   ]
  },
  {
   "cell_type": "markdown",
   "metadata": {},
   "source": [
    "### 4.5 Find the minimum point of the loss function\n",
    "\n",
    "We can find the minimum point of the function, which is the optimal weight, using its first derivative. <br>\n",
    "Go through <a href='https://www.khanacademy.org/math/old-differential-calculus/product-quotient-chain-rules-dc'> this tutorial </a> on Khan Academy for refreshment of calculating the derivative."
   ]
  },
  {
   "cell_type": "markdown",
   "metadata": {},
   "source": [
    "#### 4.5.1 Get the formula to calculate the optimal weight (2 points)\n",
    "\n",
    "Insert intermediate steps (you can find them on pages 106-107 of Deep Learning book, chapter 5 Machine Learning) and explain the transitions from one step to another."
   ]
  },
  {
   "cell_type": "markdown",
   "metadata": {},
   "source": [
    "*Answer*: <br>\n",
    "1. $\\nabla_w MSE = \\nabla_w \\frac{1}{n}||\\hat{y} - y||_2^2$ = 0\n",
    "\n",
    "<font color='blue'>\n",
    "    \n",
    "We know that $\\hat{y}$ represent the predictions of the model on the test set and is equal to $X^{train}w$\n",
    "$$ \\frac{1}{n}\\nabla_w \\|X^{train}w -\\textbf{y}^{train}\\|_2^2 = 0 $$\n",
    "\n",
    "Expanding the above equation we get-\n",
    "$$ \\nabla_w (X^{train}w -\\textbf{y}^{train})^T*(X^{train}w -\\textbf{y}^{train}) = 0 $$\n",
    "\n",
    "$$ \\nabla_w ((X^{train}w)^T -(\\textbf{y}^{train})^T)*(X^{train}w -\\textbf{y}^{train}) = 0 $$\n",
    "\n",
    "Use the property-  $(AB)^T = B^TA^T$ and multiply both terms\n",
    "$$ \\nabla_w ((w^TX^{train^T} -\\textbf{y}^{train^T})*(X^{train}w -\\textbf{y}^{train}) = 0 $$\n",
    "\n",
    "$$ \\nabla_w (w^TX^{train^T}X^{train}w - w^TX^{train^T}y^{train}-\\textbf{y}^{train^T}X^{train}w + y^{train^T}y^{train}) = 0 $$\n",
    "\n",
    "Focus on the third term- again use: $(AB)^T = B^TA^T$\n",
    "$$ (w^TX^{train^T}X^{train}w - w^TX^{train^T}y^{train}-(X^{train}w)^T{y}^{train^T} + y^{train^T}y^{train}) = 0 $$\n",
    "\n",
    "$$ (w^TX^{train^T}X^{train}w - w^TX^{train^T}y^{train}-X^{train^T}w^T{y}^{train^T} + y^{train^T}y^{train}) = 0 $$\n",
    "\n",
    "Now we can add second and third term-\n",
    "$$ (w^TX^{train^T}X^{train}w - 2w^TX^{train^T}y^{train} + y^{train^T}y^{train}) = 0 $$\n",
    "\n",
    "$$ \\implies 2X^{train^T}X^{train}w - 2X^{train^T}y^{train} = 0 $$\n",
    "$$ \\implies w =(X^{train^T}X^{train})^{-1}X^{train^T}y^{train} = 0 $$\n",
    "    \n",
    " </font>\n",
    " 6. $w = (X^T X)^{-1} X^T y$\n",
    "\n"
   ]
  },
  {
   "cell_type": "markdown",
   "metadata": {},
   "source": [
    "#### 4.5.2 Compute the optimal **w** (0.5 points)\n",
    "1. from formula 6;\n",
    "2. using sklearn: fit a regression (without the intercept!) and get the value of **w** to check your solution."
   ]
  },
  {
   "cell_type": "code",
   "execution_count": 166,
   "metadata": {},
   "outputs": [
    {
     "name": "stdout",
     "output_type": "stream",
     "text": [
      "Optimal weight we computed: \t\t 0.33511180736566953 \n",
      "Model coefficient from sklearn: \t 0.3351118073656695\n"
     ]
    }
   ],
   "source": [
    "from sklearn.linear_model import LinearRegression\n",
    "from numpy.linalg import inv # for calculating the inverse\n",
    "\n",
    "## TODO: compute the optimal w using formula 6 from the exercise above\n",
    "\n",
    "a = np.dot(x.T, x)\n",
    "b = np.linalg.inv(a)\n",
    "c = np.dot(x.T, y)\n",
    "optimal_w = np.dot(b, c)[0][0] ## this shold be a float number\n",
    "\n",
    "\n",
    "## TODO: fit a regression without the intercept and get the value of the coefficient (call using .coef_)\n",
    "lr = LinearRegression()\n",
    "X = titanic[\"Age\"].to_numpy().reshape(-1, 1) # Training data\n",
    "y_true = titanic[\"Price\"].to_numpy().reshape(-1, 1) # Target values\n",
    "lr.fit(X, y_true)\n",
    "sk_model_coef = lr.coef_[0][0]    ## this shold be a float number\n",
    "\n",
    "## Uncomment for printing\n",
    "print('Optimal weight we computed:', '\\t\\t', str(optimal_w), '\\n'\n",
    "     'Model coefficient from sklearn:', '\\t', str(sk_model_coef))"
   ]
  },
  {
   "cell_type": "markdown",
   "metadata": {},
   "source": [
    "### 4.6 Maxima, minima, saddle points (1 point)\n",
    "\n",
    "How do we define if a critical point is maximum, minimum or saddle in two-dimensional space? And in multi-dimensional?"
   ]
  },
  {
   "cell_type": "markdown",
   "metadata": {},
   "source": [
    "*Answer*:\n",
    "<font color='blue'>\n",
    "    \n",
    "#### In two-dimensional space:\n",
    " \n",
    "To define a type of a critical point, we need to use a **second partial derivative** test. \n",
    "Suppose that (a,b) is a critical point of f(x,y) and that the second order partial derivatives are continuous in some region that contains (a,b).\n",
    " \n",
    "Define determinant:\n",
    "$$D(a,b)=f_{​​​xx}​​​(a,b)f_{​​​yy}​​​(a,b)-[f_{​​​xy}​​​(a,b)]^{​​​2}​​​$$\n",
    " \n",
    "1. If D>0 and $f_{​​​xx}​​​(a,b)>0$ then there is a local **minimum** at (a,b).\n",
    "2. If D>0 and $f_{​​​xx}​​​(a,b)<0$ then there is a local **maximum** at (a,b).\n",
    "3. If D<0 then the point (a,b) is a **saddle** point. \n",
    "If D=0 then the point (a,b) may be a minimum, maximum or a saddle point. Other techniques would need to be used to classify the critical point.\n",
    " \n",
    "#### In multi-dimensional space:\n",
    " \n",
    "For a function *f* of three or more variables, instead of examining the determinant of the Hessian matrix (2 × 2 matrix of partial derivatives of *f*), one must look at the **eigenvalues** of the Hessian matrix at the critical point. The following test can be applied at any critical point *a* for which the Hessian matrix is invertible:\n",
    " \n",
    "1. If the Hessian is **positive definite** (all eigenvalues positive) at *a*, then there is a local **minimum** at *a*.\n",
    "2. If the Hessian is **negative definite** (all eigenvalues negative) at *a*, then there is a local **maximum** at *a*.\n",
    "3. If the Hessian has **both positive and negative** eigenvalues then *a* is a saddle point for *f*. \n",
    "In those cases not listed above, the test is inconclusive.\n",
    "Edited\n",
    "</font>"
   ]
  },
  {
   "cell_type": "markdown",
   "metadata": {},
   "source": [
    "### 4.7 Convex, concave (1 point)\n",
    "Give definitions of convex and concave functions (search for the definition on the Internet). <br>\n"
   ]
  },
  {
   "cell_type": "markdown",
   "metadata": {},
   "source": [
    "*Answer*:\n",
    "<font color='blue'>\n",
    "Let $f$ be a function of a single variable defined on an interval. Then f is\n",
    "- concave if every line segment joining two points on its graph is never above the graph\n",
    "- convex if every line segment joining two points on its graph is never below the graph.\n",
    "    \n",
    "</font>"
   ]
  },
  {
   "cell_type": "markdown",
   "metadata": {},
   "source": [
    "If we set $\\nabla MSE(w) = 0$ and solve for *w*, are we bound to find the **global minimum**? Why/why not?"
   ]
  },
  {
   "cell_type": "markdown",
   "metadata": {},
   "source": [
    "*Answer*: \n",
    "<font color='blue'>\n",
    "\n",
    "Not necessarily. A Derivative of $0$ means that the point can be maxima or minima. We call these critical points and they can be either local or global maxima or minima. \n",
    "\n",
    "We further compute the second derivative to determine if its a minima or maxima. A positive second derivative at that point implies a minima and vice-vera. However, we can have multiple minimas. To get the global minima, we substitute each point of maxima in the function and select the point for which it gives the least value. We call that point the global minima. However, this may not be a practical application in case of neural networks when we have multiple features and we can get several minimas.\n",
    "\n",
    "\n",
    "</font>\n",
    "    "
   ]
  },
  {
   "cell_type": "markdown",
   "metadata": {},
   "source": [
    "### 4.8 Gradient descent (0.5 point)\n",
    "\n",
    "Gradient descent is a method of approaching the minimum point by finding the direction of the steepest gradient and taking steps in that direction; the size of steps is defined by the learning rate.\n",
    "\n",
    "Give an illustration of a case when the step size is chosen badly, i.e. we can not reach the minimum.\n",
    "\n",
    "You can make a drawing by hand, take a picture and insert it into a markdown cell. Don't forget to save the file to the main archive. Support your illustration by ca. 2 sentences."
   ]
  },
  {
   "cell_type": "markdown",
   "metadata": {},
   "source": [
    "*Answer*:\n",
    "<img src=\"bad_gd.png\" width=400>\n",
    "<font color='blue'>\n",
    "the above example shows two ways where step size was choosen badly. A very small step size can takes more time than usual to converge. While a too big step size can overshoot the bottom and end up on the other side of the loss function.\n",
    "</font>\n"
   ]
  }
 ],
 "metadata": {
  "kernelspec": {
   "display_name": "Python 3",
   "language": "python",
   "name": "python3"
  },
  "language_info": {
   "codemirror_mode": {
    "name": "ipython",
    "version": 3
   },
   "file_extension": ".py",
   "mimetype": "text/x-python",
   "name": "python",
   "nbconvert_exporter": "python",
   "pygments_lexer": "ipython3",
   "version": "3.8.3"
  }
 },
 "nbformat": 4,
 "nbformat_minor": 4
}
