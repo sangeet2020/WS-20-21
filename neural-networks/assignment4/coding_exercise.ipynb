{
 "cells": [
  {
   "cell_type": "markdown",
   "metadata": {},
   "source": [
    "# Exercise Sheet 4\n",
    "\n",
    "## Implementing regression\n",
    "\n",
    "### Deadline: 08.12.2020 23:59\n",
    "\n",
    "**Instructions:**\n",
    "Insert your code in the *TODO* sections ans type your answers in the *Answer* cells. <br>\n",
    "Submit as a notebook together with the extra files (mentioned in later in the exercise) in an archive."
   ]
  },
  {
   "cell_type": "markdown",
   "metadata": {},
   "source": [
    "In this exercise we will implement a regression by hand instead of using sklearn package. <br>\n",
    "We will use the same titanic dataset as last time, so first we have to load it."
   ]
  },
  {
   "cell_type": "code",
   "execution_count": 4,
   "metadata": {},
   "outputs": [],
   "source": [
    "import pandas as pd\n",
    "## TODO: load the dataset into a pandas dataframe\n",
    "\n",
    "# titanic = "
   ]
  },
  {
   "cell_type": "markdown",
   "metadata": {},
   "source": [
    "Fitting a regression means finding a line such that the mean distance from the actual datapoints and their projections onto the line (predictions), i.e. the error, is minimal. We achive that by defining the loss function (MSE in case of linear regression) and minimizing it, or in other words, finding the minimum point. <br>\n",
    "\n",
    "In this exercise we will fit a linear regression with one predictor (age of the passenger) without intercept, so that our loss function is dependent only on the coefficient (aka weight) *w*, so that the loss function is defined as *MSE(w)*. "
   ]
  },
  {
   "cell_type": "markdown",
   "metadata": {},
   "source": [
    "### 4.1 Prepare data (0.5 points)\n",
    "As we are fitting a model without the intercept, we need to center the data."
   ]
  },
  {
   "cell_type": "code",
   "execution_count": 3,
   "metadata": {},
   "outputs": [],
   "source": [
    "import matplotlib.pyplot as plt\n",
    "import numpy as np\n",
    "\n",
    "## TODO: center the input data and save under x (age of the passenger) and y (price of the ticket) variables\n",
    "\n",
    "# x = \n",
    "# y = \n",
    "\n",
    "\n",
    "## Uncomment this part for plotting\n",
    "\n",
    "# fig, axs = plt.subplots(1, 2)\n",
    "# fig.tight_layout()\n",
    "\n",
    "# axs[0].scatter(titanic.Age, titanic.Price)\n",
    "# axs[0].set_title('Original')\n",
    "# axs[0].set_ylabel('Price of the ticket')\n",
    "\n",
    "# axs[1].scatter(x, y, color = 'r')\n",
    "# axs[1].set_title('Centered')\n",
    "\n",
    "# for ax in axs:\n",
    "#     ax.set_xlim(-40, 90)\n",
    "#     ax.set_ylim(-50, 250)\n",
    "#     ax.set_xlabel('Age')\n",
    "#     ax.grid(True)\n",
    "#     ax.axhline(y=0, color='k')\n",
    "#     ax.axvline(x=0, color='k')\n",
    "\n",
    "# plt.show()"
   ]
  },
  {
   "cell_type": "markdown",
   "metadata": {},
   "source": [
    "### 4.2 Define the loss function (0.5 points)\n",
    "\n",
    "Write the formula for calculating the loss function *MSE(w)* with $\\textbf{X}^{n*m}$ as a matrix with input data, *n* - the number of datapoints, *m* - the number of features, $\\textbf{y}^{n}$ - vector containing ground truth values. "
   ]
  },
  {
   "cell_type": "markdown",
   "metadata": {},
   "source": [
    "*Answer*: <br>\n",
    "\n",
    "$MSE(w) = $"
   ]
  },
  {
   "cell_type": "markdown",
   "metadata": {},
   "source": [
    "### 4.3 Create a computational graph for the loss function (2 points)\n",
    "\n",
    "In this part you will create a computational graph for the loss funciton defined above. Please, have a look at this <a href='https://www.deepideas.net/deep-learning-from-scratch-i-computational-graphs/'>tutorial</a> to understand what a computational graph is.\n",
    "\n",
    "We will use an application for creating diagrams <a href=\"https://app.diagrams.net/\">draw.io</a> for creating the graph. In the exercise materials there is a file *ComputationalGraphs_Instructions*. Go to the <a href=\"https://app.diagrams.net/\">application</a> and open this file. Follow the instructions in the file.\n",
    "\n",
    "Save your graph under *computational_graph.png* in the same folder as this notebook and execute the next cell to print it. You can change the *width* parameter to adjust to your image.\n",
    "\n",
    "Don't forget to add the file to the archive together with this notebook!"
   ]
  },
  {
   "cell_type": "markdown",
   "metadata": {},
   "source": [
    "<img src=\"computational_graph.png\" width=250>"
   ]
  },
  {
   "cell_type": "markdown",
   "metadata": {},
   "source": [
    "### 4.4 Plot the loss function (2 points)\n",
    "\n",
    "In this part you will use the computational graph for calculating the loss function and plotting it."
   ]
  },
  {
   "cell_type": "code",
   "execution_count": 5,
   "metadata": {},
   "outputs": [],
   "source": [
    "## TODO: define the input values\n",
    "##     w: an array of possible values of w for plotting, from -5 to 5 with a step of 0.1\n",
    "##     x: centered input values (age of the passengers)\n",
    "##     y: centered output values (price of the ticket)\n",
    "##     n: number of data points\n",
    "\n",
    "## Reshape the data according to how you defined dimensions in the computational graph using .reshape() method\n",
    "\n",
    "# w = \n",
    "# x = \n",
    "# y =\n",
    "# n =\n",
    "\n",
    "## Uncomment for printing\n",
    "# print('w:', str(w.shape),\n",
    "#       '\\nx:', str(x.shape),\n",
    "#       '\\ny:', str(y.shape))\n",
    "      \n",
    "    \n",
    "## TODO: compute the intermediate nodes and the output node of the graph.\n",
    "##       Be consistent with the names of the variables.    \n",
    "\n",
    "\n",
    "\n",
    "## TODO: reshape w and mse for plotting: they should have shape (100,)\n",
    "\n",
    "\n",
    "## Uncomment for plotting\n",
    "# plt.plot(w, mse)\n",
    "# plt.xlabel('w')\n",
    "# plt.ylabel('MSE')\n",
    "# plt.title('Optimization of w')\n",
    "# plt.grid(True)\n",
    "# plt.show()"
   ]
  },
  {
   "cell_type": "markdown",
   "metadata": {},
   "source": [
    "### 4.5 Find the minimum point of the loss function\n",
    "\n",
    "We can find the minimum point of the function, which is the optimal weight, using its first derivative. <br>\n",
    "Go through <a href='https://www.khanacademy.org/math/old-differential-calculus/product-quotient-chain-rules-dc'> this tutorial </a> on Khan Academy for refreshment of calculating the derivative."
   ]
  },
  {
   "cell_type": "markdown",
   "metadata": {},
   "source": [
    "#### 4.5.1 Get the formula to calculate the optimal weight (2 points)\n",
    "\n",
    "Insert intermediate steps (you can find them on pages 106-107 of Deep Learning book, chapter 5 Machine Learning) and explain the transitions from one step to another."
   ]
  },
  {
   "cell_type": "markdown",
   "metadata": {},
   "source": [
    "*Answer*: <br>\n",
    "1. $\\nabla_w MSE = \\nabla_w \\frac{1}{n}||\\hat{y} - y||_2^2$ = 0\n",
    "\n",
    "... *(insert the steps and explanations here)*\n",
    "\n",
    "6. $w = (X^T X)^{-1} X^T y$"
   ]
  },
  {
   "cell_type": "markdown",
   "metadata": {},
   "source": [
    "#### 4.5.2 Compute the optimal **w** (0.5 points)\n",
    "1. from formula 6;\n",
    "2. using sklearn: fit a regression (without the intercept!) and get the value of **w** to check your solution."
   ]
  },
  {
   "cell_type": "code",
   "execution_count": 7,
   "metadata": {},
   "outputs": [],
   "source": [
    "from sklearn.linear_model import LinearRegression\n",
    "from numpy.linalg import inv # for calculating the inverse\n",
    "\n",
    "## TODO: compute the optimal w using formula 6 from the exercise above\n",
    "\n",
    "# optimal_w =     ## this shold be a float number\n",
    "\n",
    "## TODO: fit a regression without the intercept and get the value of the coefficient (call using .coef_)\n",
    "\n",
    "# sk_model_coef =      ## this shold be a float number\n",
    "\n",
    "## Uncomment for printing\n",
    "# print('Optimal weight we computed:', '\\t\\t', str(optimal_w), '\\n'\n",
    "#      'Model coefficient from sklearn:', '\\t', str(sk_model_coef))"
   ]
  },
  {
   "cell_type": "markdown",
   "metadata": {},
   "source": [
    "### 4.6 Maxima, minima, saddle points (1 point)\n",
    "\n",
    "How do we define if a critical point is maximum, minimum or saddle in two-dimensional space? And in multi-dimensional?"
   ]
  },
  {
   "cell_type": "markdown",
   "metadata": {},
   "source": [
    "*Answer*:"
   ]
  },
  {
   "cell_type": "markdown",
   "metadata": {},
   "source": [
    "### 4.7 Convex, concave (1 point)\n",
    "Give definitions of convex and concave functions (search for the definition on the Internet). <br>\n"
   ]
  },
  {
   "cell_type": "markdown",
   "metadata": {},
   "source": [
    "*Answer*:\n",
    "    "
   ]
  },
  {
   "cell_type": "markdown",
   "metadata": {},
   "source": [
    "If we set $\\nabla MSE(w) = 0$ and solve for *w*, are we bound to find the **global minimum**? Why/why not?"
   ]
  },
  {
   "cell_type": "markdown",
   "metadata": {},
   "source": [
    "*Answer*:"
   ]
  },
  {
   "cell_type": "markdown",
   "metadata": {},
   "source": [
    "### 4.8 Gradient descent (0.5 point)\n",
    "\n",
    "Gradient descent is a method of approaching the minimum point by finding the direction of the steepest gradient and taking steps in that direction; the size of steps is defined by the learning rate.\n",
    "\n",
    "Give an illustration of a case when the step size is chosen badly, i.e. we can not reach the minimum.\n",
    "\n",
    "You can make a drawing by hand, take a picture and insert it into a markdown cell. Don't forget to save the file to the main archive. Support your illustration by ca. 2 sentences."
   ]
  },
  {
   "cell_type": "markdown",
   "metadata": {},
   "source": [
    "*Answer*:"
   ]
  }
 ],
 "metadata": {
  "kernelspec": {
   "display_name": "Python 3",
   "language": "python",
   "name": "python3"
  },
  "language_info": {
   "codemirror_mode": {
    "name": "ipython",
    "version": 3
   },
   "file_extension": ".py",
   "mimetype": "text/x-python",
   "name": "python",
   "nbconvert_exporter": "python",
   "pygments_lexer": "ipython3",
   "version": "3.8.5"
  }
 },
 "nbformat": 4,
 "nbformat_minor": 4
}
