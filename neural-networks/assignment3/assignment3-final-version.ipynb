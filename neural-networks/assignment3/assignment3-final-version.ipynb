{
 "cells": [
  {
   "cell_type": "markdown",
   "metadata": {},
   "source": [
    "# Exercise Sheet 3\n",
    "\n",
    "## Machine learning basics\n",
    "\n",
    "### Deadline: 02.12.2020 23:59\n",
    "\n",
    "**Instructions:**\n",
    "Insert your code in the *TODO* sections ans type your answers in the *Answer* cells. <br>"
   ]
  },
  {
   "cell_type": "markdown",
   "metadata": {},
   "source": [
    "1. Bernadeta Griciūtė (XX)\n",
    "2. Zena Al Khalili (XX)\n",
    "3. Sangeet Sagar (XX\n",
    "\n",
    "{XX,XX,sasa00001}@stud.uni-saarland.de"
   ]
  },
  {
   "cell_type": "code",
   "execution_count": 1,
   "metadata": {},
   "outputs": [],
   "source": [
    "import pandas as pd\n",
    "import numpy as np\n",
    "import matplotlib.pyplot as plt\n",
    "from sklearn.linear_model import LinearRegression, LogisticRegression\n",
    "from sklearn.model_selection import train_test_split\n",
    "from sklearn.metrics import mean_squared_error, log_loss\n",
    "from sklearn.preprocessing import PolynomialFeatures\n",
    "from sklearn.pipeline import Pipeline"
   ]
  },
  {
   "cell_type": "markdown",
   "metadata": {},
   "source": [
    "## 1 Implementing regression"
   ]
  },
  {
   "cell_type": "markdown",
   "metadata": {},
   "source": [
    "In this exercise we will practice implementing regression on the Titanic dataset using the package *sklearn*. <br>\n",
    "<a href=\"https://www.kaggle.com/c/titanic\">Titanic dataset </a> contains the data about passengers of the ship and information whether they survived or not. <br>\n",
    "In the materials for this exercise you can find the file *titanic.csv*. This file contains preprocessed data with information about passenger ID, age, class, and *price* of their ticket."
   ]
  },
  {
   "cell_type": "markdown",
   "metadata": {},
   "source": [
    "**1.1 Load the data as a pandas dataframe, using <a href = \"https://pandas.pydata.org/pandas-docs/stable/reference/api/pandas.read_csv.html\">read_csv</a> method**"
   ]
  },
  {
   "cell_type": "code",
   "execution_count": 2,
   "metadata": {},
   "outputs": [
    {
     "data": {
      "text/html": [
       "<div>\n",
       "<style scoped>\n",
       "    .dataframe tbody tr th:only-of-type {\n",
       "        vertical-align: middle;\n",
       "    }\n",
       "\n",
       "    .dataframe tbody tr th {\n",
       "        vertical-align: top;\n",
       "    }\n",
       "\n",
       "    .dataframe thead th {\n",
       "        text-align: right;\n",
       "    }\n",
       "</style>\n",
       "<table border=\"1\" class=\"dataframe\">\n",
       "  <thead>\n",
       "    <tr style=\"text-align: right;\">\n",
       "      <th></th>\n",
       "      <th>PassengerId</th>\n",
       "      <th>Survived</th>\n",
       "      <th>Pclass</th>\n",
       "      <th>Age</th>\n",
       "      <th>Price</th>\n",
       "    </tr>\n",
       "  </thead>\n",
       "  <tbody>\n",
       "    <tr>\n",
       "      <th>0</th>\n",
       "      <td>1</td>\n",
       "      <td>0</td>\n",
       "      <td>3</td>\n",
       "      <td>22.0</td>\n",
       "      <td>7.2500</td>\n",
       "    </tr>\n",
       "    <tr>\n",
       "      <th>1</th>\n",
       "      <td>2</td>\n",
       "      <td>1</td>\n",
       "      <td>1</td>\n",
       "      <td>38.0</td>\n",
       "      <td>71.2833</td>\n",
       "    </tr>\n",
       "    <tr>\n",
       "      <th>2</th>\n",
       "      <td>3</td>\n",
       "      <td>1</td>\n",
       "      <td>3</td>\n",
       "      <td>26.0</td>\n",
       "      <td>7.9250</td>\n",
       "    </tr>\n",
       "    <tr>\n",
       "      <th>3</th>\n",
       "      <td>4</td>\n",
       "      <td>1</td>\n",
       "      <td>1</td>\n",
       "      <td>35.0</td>\n",
       "      <td>26.5500</td>\n",
       "    </tr>\n",
       "    <tr>\n",
       "      <th>4</th>\n",
       "      <td>5</td>\n",
       "      <td>0</td>\n",
       "      <td>3</td>\n",
       "      <td>35.0</td>\n",
       "      <td>8.0500</td>\n",
       "    </tr>\n",
       "  </tbody>\n",
       "</table>\n",
       "</div>"
      ],
      "text/plain": [
       "   PassengerId  Survived  Pclass   Age    Price\n",
       "0            1         0       3  22.0   7.2500\n",
       "1            2         1       1  38.0  71.2833\n",
       "2            3         1       3  26.0   7.9250\n",
       "3            4         1       1  35.0  26.5500\n",
       "4            5         0       3  35.0   8.0500"
      ]
     },
     "execution_count": 2,
     "metadata": {},
     "output_type": "execute_result"
    }
   ],
   "source": [
    "# TODO: load the data into the varible 'titanic', have a look at the data\n",
    "titanic = pd.read_csv('titanic.csv')\n",
    "titanic.head()"
   ]
  },
  {
   "cell_type": "markdown",
   "metadata": {},
   "source": [
    "**Look at the data and report which variables are continuous, nominal, ordinal. (0.5 points)** "
   ]
  },
  {
   "cell_type": "markdown",
   "metadata": {},
   "source": [
    "*Answer:* \n",
    "- continious variable- **Age**, **Price**. It can take on an unlimited number of values between the lowest and highest points of measurement\n",
    "- nominal variables- **Survived**. It has 2 categories but there's no intrinsic ordering for the categories\n",
    "- ordinal variables- **Pclass**. It has 3 categories with the ability to order the categories.\n",
    "\n",
    "**PassangerId** is not a variable, it indicates the indivisual in the data set. <br>"
   ]
  },
  {
   "cell_type": "markdown",
   "metadata": {},
   "source": [
    "**1.2 Here we will implement a simple linear regression and try to see if we can predict the *price* of the ticket based on the *age* of the passenger (0.5 points)** <br>\n",
    "Consult the documentation on <a href=\"https://scikit-learn.org/stable/modules/generated/sklearn.linear_model.LinearRegression.html\">LinearRegression class </a> in sklearn"
   ]
  },
  {
   "cell_type": "code",
   "execution_count": 3,
   "metadata": {},
   "outputs": [],
   "source": [
    "# TODO:\n",
    "# 1) create an instance of LinearRegression class\n",
    "# 2) fit the model to predict Price of the ticket from Age of the passenger\n",
    "#    (consult the METHODS section in the documentation)\n",
    "# Hint: it might be the case that you will have to reshape your data using .reshape(-1, 1).\n",
    "#    You can create separate numpy arrays containing only Age and Price and reshape them if needed.\n",
    "\n",
    "lr = LinearRegression()\n",
    "X = titanic[\"Age\"].to_numpy().reshape(-1, 1) # Training data\n",
    "y_true = titanic[\"Price\"].to_numpy().reshape(-1, 1) # Target values\n",
    "lr.fit(X, y_true)\n",
    "y_pred = lr.predict(X)"
   ]
  },
  {
   "cell_type": "markdown",
   "metadata": {},
   "source": [
    "\n",
    "**What are the parameters of the model that we fit? Hint: the parametrs are the attributes of the model, consult the documentation.**"
   ]
  },
  {
   "cell_type": "code",
   "execution_count": 4,
   "metadata": {},
   "outputs": [
    {
     "name": "stdout",
     "output_type": "stream",
     "text": [
      "Coeff: 0.335 and intercept: 8.776\n"
     ]
    }
   ],
   "source": [
    "# TODO: Get the parameters of the model\n",
    "def model_params(lr):\n",
    "    coeff = lr.coef_[0]\n",
    "    intercept = lr.intercept_[0]\n",
    "    print(\"Coeff: %.3f and intercept: %.3f\" % (coeff[0],intercept))\n",
    "\n",
    "model_params(lr)"
   ]
  },
  {
   "cell_type": "markdown",
   "metadata": {},
   "source": [
    "**1.3 Write the formula of the fitted regression. (0.5 points)**"
   ]
  },
  {
   "cell_type": "markdown",
   "metadata": {},
   "source": [
    "*Answer:* $$ \n",
    "y = \\theta_0 +\\theta_1 x \\\\\n",
    "y = 8.776 +0.335 x\n",
    "$$"
   ]
  },
  {
   "cell_type": "markdown",
   "metadata": {},
   "source": [
    "**1.4 Let us see how good are the estimated values of the model. (0.5 points)** <br>\n",
    "Write the formula for Mean Squared Error and calculate the value for our age~price model. <br>\n",
    "Check if you calculated it correctly using the <a href=\"https://scikit-learn.org/stable/modules/generated/sklearn.metrics.mean_squared_error.html\"> mean_squared_error method </a> from sklearn.metrics"
   ]
  },
  {
   "cell_type": "markdown",
   "metadata": {},
   "source": [
    "*Answer (MSE formula)*: $$\n",
    "\\text{MSE}(y, \\hat{y}) = \\frac{1}{n_\\text{samples}} \\sum_{i=0}^{n_\\text{samples} - 1} (y_i - \\hat{y}_i)^2.\n",
    "$$\n",
    "Where $y$ : true values \\\n",
    "    $\\hat{y}$: predicated values \\\n",
    "    $n_{samples}$: total number of samples in the training data "
   ]
  },
  {
   "cell_type": "code",
   "execution_count": 5,
   "metadata": {},
   "outputs": [
    {
     "name": "stdout",
     "output_type": "stream",
     "text": [
      "Mean squared error using using formula: 433.035\n",
      "Mean squared error using mean_squared_error method: 433.035\n"
     ]
    }
   ],
   "source": [
    "# TODO:\n",
    "def mse(y_true, y_pred):\n",
    "    # a) calculate mean squared error of our model\n",
    "    mse_np = np.sum(np.square(y_true - y_pred))/len(y_true)\n",
    "    print('Mean squared error using using formula: %.3f'%mse_np)\n",
    "\n",
    "    # b) check you answer using mean_squared_error method.\n",
    "    mse = mean_squared_error(y_true, y_pred)\n",
    "    print('Mean squared error using mean_squared_error method: %.3f'%mse)\n",
    "\n",
    "mse(y_true, y_pred)"
   ]
  },
  {
   "cell_type": "markdown",
   "metadata": {},
   "source": [
    "**1.5 Get predictions of your model (hint: there is a corresponding method) and plot them with the original data on the same graph. (1 point)** <br>\n"
   ]
  },
  {
   "cell_type": "code",
   "execution_count": 6,
   "metadata": {},
   "outputs": [
    {
     "data": {
      "image/png": "[encoded data removed]",
      "text/plain": [
       "<Figure size 950x600 with 1 Axes>"
      ]
     },
     "metadata": {},
     "output_type": "display_data"
    }
   ],
   "source": [
    "#TODO:\n",
    "# Plot original data and predictions on the same graph\n",
    "def plot_graph(X, y_true, y_pred, xlab):\n",
    "    plt.figure(num=None, figsize=(9.5, 6), dpi=100, facecolor='w', edgecolor='k')\n",
    "    plt.scatter(X, y_true,  color='blue', s=10)\n",
    "    plt.plot(X, y_pred, color='red', linewidth=1)\n",
    "    plt.ylabel('Ticket price')\n",
    "    plt.xlabel(str(xlab))\n",
    "    plt.grid()\n",
    "    plt.show()\n",
    "\n",
    "plot_graph(X, y_true, y_pred, \"Passanger\\'s age\")"
   ]
  },
  {
   "cell_type": "markdown",
   "metadata": {},
   "source": [
    "Is Age a good predictor for the Price of the ticket? Have a look at the data again. Is there a better predictor? <br>\n",
    "**1.6 Choose another predictor and repeat the same steps (1.2-1.5). Report the better predictor. (0.5 points)**"
   ]
  },
  {
   "cell_type": "code",
   "execution_count": 7,
   "metadata": {},
   "outputs": [
    {
     "name": "stdout",
     "output_type": "stream",
     "text": [
      "Coeff: -17.069 and intercept: 56.908\n",
      "Mean squared error using using formula: 252.321\n",
      "Mean squared error using mean_squared_error method: 252.321\n"
     ]
    },
    {
     "data": {
      "image/png": "[encoded data removed]",
      "text/plain": [
       "<Figure size 950x600 with 1 Axes>"
      ]
     },
     "metadata": {},
     "output_type": "display_data"
    }
   ],
   "source": [
    "# TODO: Choose another predictor and repeat the same steps\n",
    "lr = LinearRegression()\n",
    "X = titanic[\"Pclass\"].to_numpy().reshape(-1, 1) #Training data\n",
    "lr.fit(X, y_true)\n",
    "y_pred = np.round(lr.predict(X))\n",
    "\n",
    "model_params(lr)\n",
    "mse(y_true, y_pred)\n",
    "plot_graph(X, y_true, y_pred, \"Passanger\\'s class\")"
   ]
  },
  {
   "cell_type": "markdown",
   "metadata": {},
   "source": [
    "**Pclass** is a better predictor for the price of the ticket.\n",
    "*Answer:* $$ \n",
    "y = 56.908 +(-17.069) x\n",
    "$$"
   ]
  },
  {
   "cell_type": "markdown",
   "metadata": {},
   "source": [
    "We can go on and try to improve the fit even more by increasing the complexity of the model.<br>\n",
    "**1.7 Consult this <a href=\"https://www.analyticsvidhya.com/blog/2020/03/polynomial-regression-python/\">Tutorial</a> and fit polynomial regressions using the better predictor. (1.5 points)**<br>\n",
    "1) Fit regressions of order 2, 5, and 10. <br>\n",
    "2) Get parameters of the models and write down the equations for each model inserting the fitted parameters. <br>\n",
    "3) Compute MSE for each model and compare them. Does increasing the capacity of the model improve its performance? <br>"
   ]
  },
  {
   "cell_type": "code",
   "execution_count": 8,
   "metadata": {},
   "outputs": [
    {
     "name": "stdout",
     "output_type": "stream",
     "text": [
      "Poly reg order: 2\n",
      "MSE: 83.231930\n",
      "Inliers coef:[0.0000 -73.0934 13.5181] \n",
      "\n",
      "Poly reg order: 5\n",
      "MSE: 83.231930\n",
      "Inliers coef:[0.0000 -0.5433 -1.4294 -2.5998 -3.1352 1.2103] \n",
      "\n",
      "Poly reg order: 10\n",
      "MSE: 83.202536\n",
      "Inliers coef:[0.0000 -2706211.3148 -7971673.4969 -18381018.3073 -39216923.3802\n",
      " -74712148.4656 -144738169.8271 -248179768.9772 -96485492.3817\n",
      " 269001463.0328 -67604098.6439] \n",
      "\n"
     ]
    }
   ],
   "source": [
    "## In this part we will be splitting the data into train and test set.\n",
    "\n",
    "def poly_reg(deg, X_train, X_test, y_train, y_test):    \n",
    "    print(\"Poly reg order: %d\"%deg)\n",
    "    Input = [('poly',PolynomialFeatures(degree=deg)),('lr',LinearRegression())]\n",
    "    pipe = Pipeline(Input)\n",
    "    pipe.fit(X_train,y_train)\n",
    "    coef = pipe.named_steps.lr.coef_[0]\n",
    "    print('MSE: %f'%mean_squared_error(y_test, pipe.predict(X_test)))\n",
    "    reg_label = \"Inliers coef:%s\" % (np.array2string(coef, formatter={'float_kind': lambda fk: \"%.4f\" % fk}))\n",
    "    print(reg_label,'\\n')\n",
    "    \n",
    "X = titanic[\"Pclass\"].to_numpy().reshape(-1, 1) #Training data\n",
    "y_true = titanic[\"Price\"].to_numpy().reshape(-1, 1) # Target values\n",
    "X_train, X_test, y_train, y_test  = train_test_split(X,y_true, train_size=0.8,test_size=0.2)\n",
    "\n",
    "poly_reg(2, X_train, X_test, y_train, y_test)\n",
    "poly_reg(5, X_train, X_test, y_train, y_test)\n",
    "poly_reg(10, X_train, X_test, y_train, y_test)"
   ]
  },
  {
   "cell_type": "markdown",
   "metadata": {},
   "source": [
    "### Equations of the model\n",
    "1. Deg=2\n",
    "$$\n",
    "y = 0.000*1 + (-65.6052)*x + (11.8913)*x^2\n",
    "$$\n",
    "\n",
    "2. Deg=5\n",
    "$$\n",
    "y = (0.0000)*1 + (-0.4969)*x + (-1.3073)*x^2 + (-2.3780)*x^3 + (2.8686)*x^4 + (1.1020)*x^5 \n",
    "$$\n",
    "\n",
    "3. Deg=10\n",
    "$$\n",
    "y = (0.0000)*1 + (4889877.8018)*x + (14310209.2356)*x^2 + (33187599.2074)*x^3 + (70503034.6237)*x^4 + (135112271.1602)*x^5 + (262386189.2531)*x^6 + (514924092.3815)*x^7 + (573052557.4249)*x^8 + (-852648818.0181)*x^9 + (197578978.0580)*x^{10}\n",
    "$$"
   ]
  },
  {
   "cell_type": "markdown",
   "metadata": {},
   "source": [
    "### Analysis\n",
    "When increaseing the capacity of the model, the model tries to fit more data points but consequenctly will lose some other data points. Increasing the degree polynomial causes overfitting. Hence poly degree = 2 is most suited model among the given choices."
   ]
  },
  {
   "cell_type": "markdown",
   "metadata": {},
   "source": [
    "Now we will try to predict if a passenger survived based on the passenger class. <br>\n",
    "Whether a passenger survived or not is a categorical variable, so we have to implement a **logistic** regression. <br>\n",
    "Logistic regression will be covered in the lecture on the 1st of December, but you can already get acquainted with it in <a href = \"https://towardsdatascience.com/logistic-regression-detailed-overview-46c4da4303bc\">this post</a>."
   ]
  },
  {
   "cell_type": "markdown",
   "metadata": {},
   "source": [
    "**1.8 Fit a <a href=\"https://scikit-learn.org/stable/modules/generated/sklearn.linear_model.LogisticRegression.html\"> logistic regression </a> predicting if a passenger has survived based on their class. (0.5 points)** <br>\n",
    "\n"
   ]
  },
  {
   "cell_type": "code",
   "execution_count": 9,
   "metadata": {},
   "outputs": [
    {
     "data": {
      "text/html": [
       "<div>\n",
       "<style scoped>\n",
       "    .dataframe tbody tr th:only-of-type {\n",
       "        vertical-align: middle;\n",
       "    }\n",
       "\n",
       "    .dataframe tbody tr th {\n",
       "        vertical-align: top;\n",
       "    }\n",
       "\n",
       "    .dataframe thead th {\n",
       "        text-align: right;\n",
       "    }\n",
       "</style>\n",
       "<table border=\"1\" class=\"dataframe\">\n",
       "  <thead>\n",
       "    <tr style=\"text-align: right;\">\n",
       "      <th></th>\n",
       "      <th>PassengerId</th>\n",
       "      <th>Survived</th>\n",
       "      <th>not-survived</th>\n",
       "      <th>survived</th>\n",
       "    </tr>\n",
       "  </thead>\n",
       "  <tbody>\n",
       "    <tr>\n",
       "      <th>0</th>\n",
       "      <td>1</td>\n",
       "      <td>0</td>\n",
       "      <td>0.751782</td>\n",
       "      <td>0.248218</td>\n",
       "    </tr>\n",
       "    <tr>\n",
       "      <th>1</th>\n",
       "      <td>2</td>\n",
       "      <td>1</td>\n",
       "      <td>0.332183</td>\n",
       "      <td>0.667817</td>\n",
       "    </tr>\n",
       "    <tr>\n",
       "      <th>2</th>\n",
       "      <td>3</td>\n",
       "      <td>1</td>\n",
       "      <td>0.751782</td>\n",
       "      <td>0.248218</td>\n",
       "    </tr>\n",
       "    <tr>\n",
       "      <th>3</th>\n",
       "      <td>4</td>\n",
       "      <td>1</td>\n",
       "      <td>0.332183</td>\n",
       "      <td>0.667817</td>\n",
       "    </tr>\n",
       "    <tr>\n",
       "      <th>4</th>\n",
       "      <td>5</td>\n",
       "      <td>0</td>\n",
       "      <td>0.751782</td>\n",
       "      <td>0.248218</td>\n",
       "    </tr>\n",
       "  </tbody>\n",
       "</table>\n",
       "</div>"
      ],
      "text/plain": [
       "   PassengerId  Survived  not-survived  survived\n",
       "0            1         0      0.751782  0.248218\n",
       "1            2         1      0.332183  0.667817\n",
       "2            3         1      0.751782  0.248218\n",
       "3            4         1      0.332183  0.667817\n",
       "4            5         0      0.751782  0.248218"
      ]
     },
     "execution_count": 9,
     "metadata": {},
     "output_type": "execute_result"
    }
   ],
   "source": [
    "# TODO: fit a logistic regression (Pclass predicts Survived)\n",
    "X = titanic[\"Pclass\"].to_numpy().reshape(-1, 1) #Training data\n",
    "y_true = titanic[\"Survived\"] #Target values\n",
    "\n",
    "logisticRegr = LogisticRegression()\n",
    "logisticRegr.fit(X, y_true.values.ravel())\n",
    "probablities = logisticRegr.predict_proba(X)\n",
    "df_probab = pd.DataFrame(data=probablities, columns=[\"not-survived\", \"survived\"])\n",
    "df_probab.insert(0, \"PassengerId\", titanic['PassengerId'].to_numpy().tolist(), True) \n",
    "df_probab.insert(1, \"Survived\", titanic['Survived'].to_numpy().tolist(), True) \n",
    "df_probab.head()"
   ]
  },
  {
   "cell_type": "markdown",
   "metadata": {},
   "source": [
    "**1.9 Cross entropy loss. (1 point)** <br>\n",
    "The measure that we use for estimating the error of a logistic regression is *Cross Entropy Loss*. <br>\n",
    "Here is a good <a href=\"https://www.youtube.com/watch?v=jKQI75qKm3A\"> video </a> explaining Maximum Likelihood Estimation and Cross Entropy Loss. <br>\n",
    "Write the formula for Cross Entropy Loss and calculate the error of your model using this formula. Check your answer using the <a href=\"https://scikit-learn.org/stable/modules/generated/sklearn.metrics.log_loss.html\"> log_loss </a> method from sklearn."
   ]
  },
  {
   "cell_type": "markdown",
   "metadata": {},
   "source": [
    "*Cross Entropy Loss formula*: \n",
    "$$\n",
    "H_P(Q) = -\\frac{1}{N}\\sum_{i}^{N}y_i \\log (p_i) + (1 - y_i) \\log (1 - p_i)\n",
    "$$\n",
    "\n",
    "Where: \\\n",
    "$N$: total number of samples \\\n",
    "$y$: class label \\\n",
    "$p$: probablity of survival\n"
   ]
  },
  {
   "cell_type": "code",
   "execution_count": 10,
   "metadata": {},
   "outputs": [
    {
     "name": "stdout",
     "output_type": "stream",
     "text": [
      "Cross entropy loss using formula: 0.609760\n",
      "Cross entropy loss using log_loss method: 0.609760\n"
     ]
    }
   ],
   "source": [
    "# TODO: compute Cross Entropy Loss and check it using log_loss method.\n",
    "y = titanic['Survived'].to_numpy()\n",
    "p = probablities[:,1]\n",
    "cel = -np.sum(y*np.log(p) + (1-y)*np.log(1-p)) / len(y)\n",
    "cel_method = log_loss(y_true, probablities)\n",
    "\n",
    "print(\"Cross entropy loss using formula: %f\" %cel)\n",
    "print(\"Cross entropy loss using log_loss method: %f\" %cel_method)"
   ]
  },
  {
   "cell_type": "markdown",
   "metadata": {},
   "source": [
    "**1.10 Fit a multiple logistic regression (0.5 points)** <br>\n",
    "Now let's check if the Age of a passenger also had an influence on their survival chances. <br>\n",
    "Fit a model with 2 predictors, compute the loss. Compare with the previous model."
   ]
  },
  {
   "cell_type": "code",
   "execution_count": 11,
   "metadata": {},
   "outputs": [
    {
     "name": "stdout",
     "output_type": "stream",
     "text": [
      "Cross entropy loss using log_loss method: 0.579447\n"
     ]
    }
   ],
   "source": [
    "# TODO: fit a multiple regression with Age and Pclass as predictors of survival.\n",
    "#       Hint: the predictors should be in shape of a 2d array, Age and Pclass as columns.\n",
    "\n",
    "X = titanic[['Age', 'Pclass']].to_numpy() #Training data\n",
    "y = titanic[\"Survived\"]\n",
    "logisticRegr = LogisticRegression()\n",
    "logisticRegr.fit(X, y.values.ravel())\n",
    "\n",
    "probablities = logisticRegr.predict_proba(X)\n",
    "cel_method = log_loss(y_true, probablities)\n",
    "print(\"Cross entropy loss using log_loss method: %f\" %cel_method)"
   ]
  },
  {
   "cell_type": "markdown",
   "metadata": {},
   "source": [
    "### Comparison\n",
    "Multiple regression has better cross-entropy value and hence a better model because is prediction is constrained on two classes."
   ]
  },
  {
   "cell_type": "markdown",
   "metadata": {},
   "source": [
    "## 2 Evaluating the performance of a model\n",
    "\n",
    "**2.1 Give definitions of terms overfitting and underfitting. <br>\n",
    "How can we check if the model underfits, overfits or is optimal? (1 point)**"
   ]
  },
  {
   "cell_type": "markdown",
   "metadata": {},
   "source": [
    "*Answer*:\n",
    "- **Underfitting**: When the model is not powerful enough to capture salient patterns in data. Meaning eans it can not generalize to the new data. Such models/algorithm are unsuitable for experiments and often result in poor perfromance.\n",
    "- **Overfitting**: When the model is too highly trained to the specific training examples, we call it overfitting. Meaning, it performs poorly on new examples.\n",
    "\n",
    " Cross-validation is used in order to estimate the model’s performance on unseen data. If the \n",
    " - Training loss << validation loss: Overfitting \n",
    " - Training loss and validation loss both high: Underfitting\n",
    " \n",
    " Underfitting or overfitting of a model can also decided experimentally by comparing their performance on the test data."
   ]
  },
  {
   "cell_type": "markdown",
   "metadata": {},
   "source": [
    "**2.2 Evaluation metrics (2 points)**<br>\n",
    "Watch this <a href=\"https://www.youtube.com/watch?v=wpQiEHYkBys\">video about evaluation metrics</a>. <br>\n",
    "Discuss the differences between Accuracy, Precision, Recall, F1, MCC (Mathews Correlation Coeffcient): <br>\n",
    "1. How are they calculated? <br>\n",
    "2. In which case can a model get the perfect score? <br>\n",
    "3. Give examples of situations when you would prefer one over the others. <br>\n",
    "4. Getting back to our Titanic case: Imagine that you have to predict if the passenger survived or not and pass this information to the families. Which metric would you use? Why?\n"
   ]
  },
  {
   "cell_type": "markdown",
   "metadata": {},
   "source": [
    "Answer:*\n",
    "1. \n",
    "    - **Accuracy**\n",
    "    $$A = \\frac{\\text{number of correct predictions}}{\\text{total number of predictions}}$$\n",
    "\n",
    "    - **Precision**\n",
    "    $$Precision = \\frac{TP}{TP+FP}$$\n",
    "\n",
    "    - **Recall**\n",
    "    $$Recall = \\frac{TP}{TP+FN}$$\n",
    "\n",
    "    - **F1**\n",
    "    $$F1 = \\frac{2*Precision*Recall}{Precision+Recall}\\\\  = \\frac{2*TP}{2*TP+FP+FN}$$\n",
    "\n",
    "    - **MCC (Mathews Correlation Coeffcient)**\n",
    "    $$MCC =  \\frac{TP*TN-FP*FN}{\\sqrt{(TP+FP)(TP+FN)(TN+FP)(TN+FN)}}$$\n",
    "    \n",
    "2. \n",
    "We can achieve a perfect score in accuracy if there are no incorrect predictions.\n",
    "    \n",
    "3. \n",
    "For minimizing False Positives, it's better to choose Precision (for example, saving good letters from going into spam), for minimizing False Negatives - Recall (for example, for ensuring that sick patients are not sent home).\\\n",
    "MCC is often better than F1 since it takes into account all four categories of confusion matrix (TP, TN, FP, FN), but it doesn't work well for multiclass problems, only for binary problems.\n",
    "\n",
    "4. \n",
    "F1 score is the best metric to predict if a passanger has survived or not since it captures the information of recall and precision which fits the situation best."
   ]
  }
 ],
 "metadata": {
  "kernelspec": {
   "display_name": "Python 3",
   "language": "python",
   "name": "python3"
  },
  "language_info": {
   "codemirror_mode": {
    "name": "ipython",
    "version": 3
   },
   "file_extension": ".py",
   "mimetype": "text/x-python",
   "name": "python",
   "nbconvert_exporter": "python",
   "pygments_lexer": "ipython3",
   "version": "3.8.3"
  }
 },
 "nbformat": 4,
 "nbformat_minor": 4
}
