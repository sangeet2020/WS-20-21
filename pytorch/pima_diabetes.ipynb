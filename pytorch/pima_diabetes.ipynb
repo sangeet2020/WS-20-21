{
 "cells": [
  {
   "cell_type": "markdown",
   "metadata": {},
   "source": [
    "## Taken from-  \n",
    "https://github.com/krishnaik06/Pytorch-Tutorial/blob/master/Tutorial%204-%20Creating%20ANN%20with%20Pytorch%20On%20Pima%20Diabetes%20Dataset.ipynb\n",
    "\n",
    "with little changes:\n",
    "- change in architecture (faster convergence)\n",
    "- run a climb hill to monitor model's performance as training progresses"
   ]
  },
  {
   "cell_type": "code",
   "execution_count": 1,
   "metadata": {},
   "outputs": [],
   "source": [
    "import torch\n",
    "import pandas as pd\n",
    "import torch.nn as nn\n",
    "import torch.nn.functional as F\n",
    "import seaborn as  sns\n",
    "import numpy as np\n",
    "from sklearn.model_selection import train_test_split\n",
    "from sklearn.metrics import confusion_matrix\n",
    "from sklearn.metrics import accuracy_score\n",
    "import matplotlib.pyplot as plt\n",
    "%matplotlib inline"
   ]
  },
  {
   "cell_type": "code",
   "execution_count": 2,
   "metadata": {},
   "outputs": [
    {
     "data": {
      "text/html": [
       "<div>\n",
       "<style scoped>\n",
       "    .dataframe tbody tr th:only-of-type {\n",
       "        vertical-align: middle;\n",
       "    }\n",
       "\n",
       "    .dataframe tbody tr th {\n",
       "        vertical-align: top;\n",
       "    }\n",
       "\n",
       "    .dataframe thead th {\n",
       "        text-align: right;\n",
       "    }\n",
       "</style>\n",
       "<table border=\"1\" class=\"dataframe\">\n",
       "  <thead>\n",
       "    <tr style=\"text-align: right;\">\n",
       "      <th></th>\n",
       "      <th>Pregnancies</th>\n",
       "      <th>Glucose</th>\n",
       "      <th>BloodPressure</th>\n",
       "      <th>SkinThickness</th>\n",
       "      <th>Insulin</th>\n",
       "      <th>BMI</th>\n",
       "      <th>DiabetesPedigreeFunction</th>\n",
       "      <th>Age</th>\n",
       "      <th>Outcome</th>\n",
       "    </tr>\n",
       "  </thead>\n",
       "  <tbody>\n",
       "    <tr>\n",
       "      <th>0</th>\n",
       "      <td>6</td>\n",
       "      <td>148</td>\n",
       "      <td>72</td>\n",
       "      <td>35</td>\n",
       "      <td>0</td>\n",
       "      <td>33.6</td>\n",
       "      <td>0.627</td>\n",
       "      <td>50</td>\n",
       "      <td>1</td>\n",
       "    </tr>\n",
       "    <tr>\n",
       "      <th>1</th>\n",
       "      <td>1</td>\n",
       "      <td>85</td>\n",
       "      <td>66</td>\n",
       "      <td>29</td>\n",
       "      <td>0</td>\n",
       "      <td>26.6</td>\n",
       "      <td>0.351</td>\n",
       "      <td>31</td>\n",
       "      <td>0</td>\n",
       "    </tr>\n",
       "    <tr>\n",
       "      <th>2</th>\n",
       "      <td>8</td>\n",
       "      <td>183</td>\n",
       "      <td>64</td>\n",
       "      <td>0</td>\n",
       "      <td>0</td>\n",
       "      <td>23.3</td>\n",
       "      <td>0.672</td>\n",
       "      <td>32</td>\n",
       "      <td>1</td>\n",
       "    </tr>\n",
       "    <tr>\n",
       "      <th>3</th>\n",
       "      <td>1</td>\n",
       "      <td>89</td>\n",
       "      <td>66</td>\n",
       "      <td>23</td>\n",
       "      <td>94</td>\n",
       "      <td>28.1</td>\n",
       "      <td>0.167</td>\n",
       "      <td>21</td>\n",
       "      <td>0</td>\n",
       "    </tr>\n",
       "    <tr>\n",
       "      <th>4</th>\n",
       "      <td>0</td>\n",
       "      <td>137</td>\n",
       "      <td>40</td>\n",
       "      <td>35</td>\n",
       "      <td>168</td>\n",
       "      <td>43.1</td>\n",
       "      <td>2.288</td>\n",
       "      <td>33</td>\n",
       "      <td>1</td>\n",
       "    </tr>\n",
       "  </tbody>\n",
       "</table>\n",
       "</div>"
      ],
      "text/plain": [
       "   Pregnancies  Glucose  BloodPressure  SkinThickness  Insulin   BMI  \\\n",
       "0            6      148             72             35        0  33.6   \n",
       "1            1       85             66             29        0  26.6   \n",
       "2            8      183             64              0        0  23.3   \n",
       "3            1       89             66             23       94  28.1   \n",
       "4            0      137             40             35      168  43.1   \n",
       "\n",
       "   DiabetesPedigreeFunction  Age  Outcome  \n",
       "0                     0.627   50        1  \n",
       "1                     0.351   31        0  \n",
       "2                     0.672   32        1  \n",
       "3                     0.167   21        0  \n",
       "4                     2.288   33        1  "
      ]
     },
     "execution_count": 2,
     "metadata": {},
     "output_type": "execute_result"
    }
   ],
   "source": [
    "df = pd.read_csv(\"diabetes.csv\")\n",
    "df.head()"
   ]
  },
  {
   "cell_type": "code",
   "execution_count": 3,
   "metadata": {},
   "outputs": [
    {
     "data": {
      "text/plain": [
       "Pregnancies                 0\n",
       "Glucose                     0\n",
       "BloodPressure               0\n",
       "SkinThickness               0\n",
       "Insulin                     0\n",
       "BMI                         0\n",
       "DiabetesPedigreeFunction    0\n",
       "Age                         0\n",
       "Outcome                     0\n",
       "dtype: int64"
      ]
     },
     "execution_count": 3,
     "metadata": {},
     "output_type": "execute_result"
    }
   ],
   "source": [
    "## Check for Null values\n",
    "df.isnull().sum()"
   ]
  },
  {
   "cell_type": "code",
   "execution_count": 4,
   "metadata": {},
   "outputs": [
    {
     "data": {
      "text/html": [
       "<div>\n",
       "<style scoped>\n",
       "    .dataframe tbody tr th:only-of-type {\n",
       "        vertical-align: middle;\n",
       "    }\n",
       "\n",
       "    .dataframe tbody tr th {\n",
       "        vertical-align: top;\n",
       "    }\n",
       "\n",
       "    .dataframe thead th {\n",
       "        text-align: right;\n",
       "    }\n",
       "</style>\n",
       "<table border=\"1\" class=\"dataframe\">\n",
       "  <thead>\n",
       "    <tr style=\"text-align: right;\">\n",
       "      <th></th>\n",
       "      <th>Pregnancies</th>\n",
       "      <th>Glucose</th>\n",
       "      <th>BloodPressure</th>\n",
       "      <th>SkinThickness</th>\n",
       "      <th>Insulin</th>\n",
       "      <th>BMI</th>\n",
       "      <th>DiabetesPedigreeFunction</th>\n",
       "      <th>Age</th>\n",
       "      <th>Outcome</th>\n",
       "    </tr>\n",
       "  </thead>\n",
       "  <tbody>\n",
       "    <tr>\n",
       "      <th>0</th>\n",
       "      <td>6</td>\n",
       "      <td>148</td>\n",
       "      <td>72</td>\n",
       "      <td>35</td>\n",
       "      <td>0</td>\n",
       "      <td>33.6</td>\n",
       "      <td>0.627</td>\n",
       "      <td>50</td>\n",
       "      <td>Diabetic</td>\n",
       "    </tr>\n",
       "    <tr>\n",
       "      <th>1</th>\n",
       "      <td>1</td>\n",
       "      <td>85</td>\n",
       "      <td>66</td>\n",
       "      <td>29</td>\n",
       "      <td>0</td>\n",
       "      <td>26.6</td>\n",
       "      <td>0.351</td>\n",
       "      <td>31</td>\n",
       "      <td>Not Diabetic</td>\n",
       "    </tr>\n",
       "    <tr>\n",
       "      <th>2</th>\n",
       "      <td>8</td>\n",
       "      <td>183</td>\n",
       "      <td>64</td>\n",
       "      <td>0</td>\n",
       "      <td>0</td>\n",
       "      <td>23.3</td>\n",
       "      <td>0.672</td>\n",
       "      <td>32</td>\n",
       "      <td>Diabetic</td>\n",
       "    </tr>\n",
       "    <tr>\n",
       "      <th>3</th>\n",
       "      <td>1</td>\n",
       "      <td>89</td>\n",
       "      <td>66</td>\n",
       "      <td>23</td>\n",
       "      <td>94</td>\n",
       "      <td>28.1</td>\n",
       "      <td>0.167</td>\n",
       "      <td>21</td>\n",
       "      <td>Not Diabetic</td>\n",
       "    </tr>\n",
       "    <tr>\n",
       "      <th>4</th>\n",
       "      <td>0</td>\n",
       "      <td>137</td>\n",
       "      <td>40</td>\n",
       "      <td>35</td>\n",
       "      <td>168</td>\n",
       "      <td>43.1</td>\n",
       "      <td>2.288</td>\n",
       "      <td>33</td>\n",
       "      <td>Diabetic</td>\n",
       "    </tr>\n",
       "  </tbody>\n",
       "</table>\n",
       "</div>"
      ],
      "text/plain": [
       "   Pregnancies  Glucose  BloodPressure  SkinThickness  Insulin   BMI  \\\n",
       "0            6      148             72             35        0  33.6   \n",
       "1            1       85             66             29        0  26.6   \n",
       "2            8      183             64              0        0  23.3   \n",
       "3            1       89             66             23       94  28.1   \n",
       "4            0      137             40             35      168  43.1   \n",
       "\n",
       "   DiabetesPedigreeFunction  Age       Outcome  \n",
       "0                     0.627   50      Diabetic  \n",
       "1                     0.351   31  Not Diabetic  \n",
       "2                     0.672   32      Diabetic  \n",
       "3                     0.167   21  Not Diabetic  \n",
       "4                     2.288   33      Diabetic  "
      ]
     },
     "execution_count": 4,
     "metadata": {},
     "output_type": "execute_result"
    }
   ],
   "source": [
    "new_df = df.copy()\n",
    "new_df[\"Outcome\"] = np.where(new_df['Outcome']==1, \"Diabetic\", \"Not Diabetic\")\n",
    "new_df.head()"
   ]
  },
  {
   "cell_type": "code",
   "execution_count": 5,
   "metadata": {},
   "outputs": [],
   "source": [
    "## Plot pairwise relationships\n",
    "# sns.pairplot(new_df, hue=\"Outcome\")"
   ]
  },
  {
   "cell_type": "code",
   "execution_count": 6,
   "metadata": {},
   "outputs": [],
   "source": [
    "X = df.drop([\"Outcome\"], axis=1).values  # independent features\n",
    "y = df[\"Outcome\"].values # dependent features"
   ]
  },
  {
   "cell_type": "code",
   "execution_count": 7,
   "metadata": {},
   "outputs": [],
   "source": [
    "## Train test data split\n",
    "X_train, X_test, y_train, y_test = train_test_split(X,y, test_size=0.2, random_state=12)\n",
    "\n",
    "\n",
    "## Creating tensors\n",
    "X_train = torch.FloatTensor(X_train)\n",
    "y_train = torch.FloatTensor(y_train)\n",
    "X_test = torch.FloatTensor(X_test)\n",
    "y_test = torch.FloatTensor(y_test)\n",
    "\n",
    "y_train = y_train.to(dtype=torch.long)\n",
    "y_test = y_test.to(dtype=torch.long)"
   ]
  },
  {
   "cell_type": "code",
   "execution_count": 8,
   "metadata": {},
   "outputs": [
    {
     "data": {
      "text/plain": [
       "(768, 9)"
      ]
     },
     "execution_count": 8,
     "metadata": {},
     "output_type": "execute_result"
    }
   ],
   "source": [
    "df.shape"
   ]
  },
  {
   "cell_type": "code",
   "execution_count": 9,
   "metadata": {},
   "outputs": [],
   "source": [
    "### Creating ANN Model class with PyTorch\n",
    "\n",
    "class ANN_Model(nn.Module):\n",
    "    \n",
    "    ## Define all the network architecture and variables\n",
    "    def __init__(self, input_features=8, hidden1=10, hidden2=20, hidden3=10, out_features=2):\n",
    "        super().__init__()\n",
    "        ## First fully connected layer\n",
    "        self.f_connected1 = nn.Linear(input_features, hidden1)\n",
    "        ## First fully connected layer\n",
    "        self.f_connected2 = nn.Linear(hidden1, hidden2)\n",
    "        self.f_connected3 = nn.Linear(hidden2, hidden3)\n",
    "        ## Output layer\n",
    "        self.out = nn.Linear(hidden3, out_features)\n",
    "    \n",
    "    def forward(self, x):\n",
    "        ## aplying activation function\n",
    "        x = F.relu(self.f_connected1(x))\n",
    "        x = F.relu(self.f_connected2(x))\n",
    "        x = F.relu(self.f_connected3(x))\n",
    "        x = self.out(x)\n",
    "        return x"
   ]
  },
  {
   "cell_type": "code",
   "execution_count": 10,
   "metadata": {},
   "outputs": [],
   "source": [
    "### Instantiate my ANN module\n",
    "torch.manual_seed(42)\n",
    "model = ANN_Model()"
   ]
  },
  {
   "cell_type": "code",
   "execution_count": 11,
   "metadata": {},
   "outputs": [
    {
     "data": {
      "text/plain": [
       "<bound method Module.parameters of ANN_Model(\n",
       "  (f_connected1): Linear(in_features=8, out_features=10, bias=True)\n",
       "  (f_connected2): Linear(in_features=10, out_features=20, bias=True)\n",
       "  (f_connected3): Linear(in_features=20, out_features=10, bias=True)\n",
       "  (out): Linear(in_features=10, out_features=2, bias=True)\n",
       ")>"
      ]
     },
     "execution_count": 11,
     "metadata": {},
     "output_type": "execute_result"
    }
   ],
   "source": [
    "## Print the network architecture\n",
    "model.parameters"
   ]
  },
  {
   "cell_type": "code",
   "execution_count": 12,
   "metadata": {},
   "outputs": [],
   "source": [
    "## Backward propgation\n",
    "## -- Define the loss function and define the optimizer\n",
    "\n",
    "loss_function = nn.CrossEntropyLoss()\n",
    "optimizer = torch.optim.Adam(model.parameters(), lr=0.01)"
   ]
  },
  {
   "cell_type": "code",
   "execution_count": 13,
   "metadata": {},
   "outputs": [
    {
     "data": {
      "text/plain": [
       "torch.int64"
      ]
     },
     "execution_count": 13,
     "metadata": {},
     "output_type": "execute_result"
    }
   ],
   "source": [
    "y_train.dtype"
   ]
  },
  {
   "cell_type": "code",
   "execution_count": 14,
   "metadata": {
    "scrolled": false
   },
   "outputs": [
    {
     "name": "stdout",
     "output_type": "stream",
     "text": [
      "Epoch no. 1 and the loss is: 0.7573686838150024 \n",
      "Epoch no. 11 and the loss is: 0.6219080090522766 \n",
      "Epoch no. 21 and the loss is: 0.5962846279144287 \n",
      "Epoch no. 31 and the loss is: 0.5716946721076965 \n",
      "Epoch no. 41 and the loss is: 0.5611433386802673 \n",
      "Epoch no. 51 and the loss is: 0.5507014989852905 \n",
      "Epoch no. 61 and the loss is: 0.5386536121368408 \n",
      "Epoch no. 71 and the loss is: 0.5265355110168457 \n",
      "Epoch no. 81 and the loss is: 0.5120664834976196 \n",
      "Epoch no. 91 and the loss is: 0.4956788718700409 \n",
      "Epoch no. 101 and the loss is: 0.49146994948387146 \n",
      "Epoch no. 111 and the loss is: 0.4728345274925232 \n",
      "Epoch no. 121 and the loss is: 0.4621192216873169 \n",
      "Epoch no. 131 and the loss is: 0.44884204864501953 \n",
      "Epoch no. 141 and the loss is: 0.4475497901439667 \n",
      "Epoch no. 151 and the loss is: 0.4319705069065094 \n",
      "Epoch no. 161 and the loss is: 0.44289490580558777 \n",
      "Epoch no. 171 and the loss is: 0.43295207619667053 \n",
      "Epoch no. 181 and the loss is: 0.4219135642051697 \n",
      "Epoch no. 191 and the loss is: 0.4221365749835968 \n",
      "Epoch no. 201 and the loss is: 0.4181515574455261 \n",
      "Epoch no. 211 and the loss is: 0.40306922793388367 \n",
      "Epoch no. 221 and the loss is: 0.40137702226638794 \n",
      "Epoch no. 231 and the loss is: 0.43331626057624817 \n",
      "Epoch no. 241 and the loss is: 0.4085126519203186 \n",
      "Epoch no. 251 and the loss is: 0.4046952426433563 \n",
      "Epoch no. 261 and the loss is: 0.3993610143661499 \n",
      "Epoch no. 271 and the loss is: 0.39543619751930237 \n",
      "Epoch no. 281 and the loss is: 0.39451271295547485 \n",
      "Epoch no. 291 and the loss is: 0.391152024269104 \n",
      "Epoch no. 301 and the loss is: 0.3866780996322632 \n",
      "Epoch no. 311 and the loss is: 0.3846052885055542 \n",
      "Epoch no. 321 and the loss is: 0.38150718808174133 \n",
      "Epoch no. 331 and the loss is: 0.37871819734573364 \n",
      "Epoch no. 341 and the loss is: 0.38750970363616943 \n",
      "Epoch no. 351 and the loss is: 0.3822050094604492 \n",
      "Epoch no. 361 and the loss is: 0.4163566827774048 \n",
      "Epoch no. 371 and the loss is: 0.3943641185760498 \n",
      "Epoch no. 381 and the loss is: 0.3860470652580261 \n",
      "Epoch no. 391 and the loss is: 0.37857159972190857 \n",
      "Epoch no. 401 and the loss is: 0.3730728328227997 \n",
      "Epoch no. 411 and the loss is: 0.37270522117614746 \n",
      "Epoch no. 421 and the loss is: 0.40072810649871826 \n",
      "Epoch no. 431 and the loss is: 0.39711126685142517 \n",
      "Epoch no. 441 and the loss is: 0.37712347507476807 \n",
      "Epoch no. 451 and the loss is: 0.37929949164390564 \n",
      "Epoch no. 461 and the loss is: 0.3664780557155609 \n",
      "Epoch no. 471 and the loss is: 0.3627797067165375 \n",
      "Epoch no. 481 and the loss is: 0.35941556096076965 \n",
      "Epoch no. 491 and the loss is: 0.35647377371788025 \n"
     ]
    },
    {
     "data": {
      "text/plain": [
       "[<matplotlib.lines.Line2D at 0x7fdc7d709790>]"
      ]
     },
     "execution_count": 14,
     "metadata": {},
     "output_type": "execute_result"
    },
    {
     "data": {
      "image/png": "[encoded data removed]",
      "text/plain": [
       "<Figure size 432x288 with 1 Axes>"
      ]
     },
     "metadata": {
      "needs_background": "light"
     },
     "output_type": "display_data"
    }
   ],
   "source": [
    "## Ignite the network and let it do the job\n",
    "\n",
    "epochs = 500\n",
    "final_losses = []\n",
    "accuracy = []\n",
    "\n",
    "for i in range(epochs):\n",
    "    i += 1\n",
    "    y_pred = model.forward(X_train)    \n",
    "    loss = loss_function(y_pred, y_train)\n",
    "    final_losses.append(loss)\n",
    "    \n",
    "    if i%10 == 1:\n",
    "        print(\"Epoch no. {} and the loss is: {} \".format(i, loss.item()))\n",
    "    \n",
    "    ## Important step: we need to reduce the loss. So after epoch this line \n",
    "    # erases the gradient of all the optimized class\n",
    "    optimizer.zero_grad()\n",
    "    loss.backward() ## to backpropogate and findout the derivative\n",
    "    optimizer.step()\n",
    "\n",
    "    ## Model performance track: run a climbing hill\n",
    "    predictions = []\n",
    "    with torch.no_grad():\n",
    "        for idx, data in enumerate(X_test):\n",
    "            y_pred = model(data)\n",
    "            predictions.append(y_pred.argmax().item())\n",
    "    score = accuracy_score(y_test, predictions)\n",
    "    accuracy.append(score)\n",
    "\n",
    "\n",
    "plt.plot(range(epochs), accuracy)"
   ]
  },
  {
   "cell_type": "code",
   "execution_count": 15,
   "metadata": {},
   "outputs": [
    {
     "name": "stdout",
     "output_type": "stream",
     "text": [
      "Best accuracy: 0.8116883116883117 for iteration: 135\n"
     ]
    }
   ],
   "source": [
    "print(\"Best accuracy: {} for iteration: {}\".format(max(accuracy), np.asarray(accuracy).argmax()))"
   ]
  },
  {
   "cell_type": "code",
   "execution_count": 16,
   "metadata": {},
   "outputs": [
    {
     "data": {
      "text/plain": [
       "Text(0.5, 0, 'Epoch')"
      ]
     },
     "execution_count": 16,
     "metadata": {},
     "output_type": "execute_result"
    },
    {
     "data": {
      "image/png": "[encoded data removed]",
      "text/plain": [
       "<Figure size 432x288 with 1 Axes>"
      ]
     },
     "metadata": {
      "needs_background": "light"
     },
     "output_type": "display_data"
    }
   ],
   "source": [
    "## Plot the loss function\n",
    "plt.plot(range(epochs), final_losses)\n",
    "plt.ylabel(\"Loss\")\n",
    "plt.xlabel(\"Epoch\")"
   ]
  },
  {
   "cell_type": "code",
   "execution_count": 17,
   "metadata": {},
   "outputs": [
    {
     "name": "stdout",
     "output_type": "stream",
     "text": [
      "[0, 1, 0, 0, 0, 0, 0, 1, 0, 0]\n"
     ]
    }
   ],
   "source": [
    "## Pickout the model \n",
    "predictions = []\n",
    "with torch.no_grad():\n",
    "    for i, data in enumerate(X_test):\n",
    "        y_pred = model(data)\n",
    "        predictions.append(y_pred.argmax().item())\n",
    "print(predictions[:10])"
   ]
  },
  {
   "cell_type": "code",
   "execution_count": 18,
   "metadata": {},
   "outputs": [
    {
     "name": "stdout",
     "output_type": "stream",
     "text": [
      "Model accuracy: 0.7597402597402597\n"
     ]
    },
    {
     "data": {
      "image/png": "[encoded data removed]",
      "text/plain": [
       "<Figure size 432x288 with 2 Axes>"
      ]
     },
     "metadata": {
      "needs_background": "light"
     },
     "output_type": "display_data"
    }
   ],
   "source": [
    "conf_mat = confusion_matrix(y_test, predictions)\n",
    "sns.heatmap(conf_mat, annot=True)\n",
    "plt.xlabel(\"Actual Values\")\n",
    "plt.ylabel(\"Predicted Values\")\n",
    "\n",
    "## Print accuracy and save the model\n",
    "score = accuracy_score(y_test, predictions)\n",
    "torch.save(model, \"diabetes.pt\")\n",
    "print(\"Model accuracy: {}\".format(score))"
   ]
  }
 ],
 "metadata": {
  "kernelspec": {
   "display_name": "Python 3",
   "language": "python",
   "name": "python3"
  },
  "language_info": {
   "codemirror_mode": {
    "name": "ipython",
    "version": 3
   },
   "file_extension": ".py",
   "mimetype": "text/x-python",
   "name": "python",
   "nbconvert_exporter": "python",
   "pygments_lexer": "ipython3",
   "version": "3.8.5"
  }
 },
 "nbformat": 4,
 "nbformat_minor": 4
}
